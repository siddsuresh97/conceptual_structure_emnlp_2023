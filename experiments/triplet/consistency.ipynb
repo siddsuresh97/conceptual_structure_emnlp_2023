{
 "cells": [
  {
   "cell_type": "code",
   "execution_count": 2,
   "metadata": {},
   "outputs": [],
   "source": [
    "import pandas as pd\n",
    "\n",
    "def compare_triplet_responses(path1, path2):\n",
    "    f1 = pd.read_csv(path1, header=None)\n",
    "    f2 = pd.read_csv(path2, header=None)\n",
    "\n",
    "    f1 = f1.loc[:, 1].tolist()\n",
    "    f2 = f2.loc[:, 1].tolist()\n",
    "    f1 = [s.lower() for s in f1]\n",
    "    f2 = [s.lower() for s in f2]\n",
    "    bools = [f1[i] == f2[i] for i in range(3000)]\n",
    "    return sum(bools) / 3000"
   ]
  },
  {
   "cell_type": "code",
   "execution_count": 3,
   "metadata": {},
   "outputs": [
    {
     "data": {
      "text/plain": [
       "0.25466666666666665"
      ]
     },
     "execution_count": 3,
     "metadata": {},
     "output_type": "execute_result"
    }
   ],
   "source": [
    "compare_triplet_responses(\"response.csv\",\n",
    "                          \"response_flipped_davinci-002.csv\")"
   ]
  },
  {
   "cell_type": "code",
   "execution_count": 4,
   "metadata": {},
   "outputs": [
    {
     "data": {
      "text/plain": [
       "0.25433333333333336"
      ]
     },
     "execution_count": 4,
     "metadata": {},
     "output_type": "execute_result"
    }
   ],
   "source": [
    "compare_triplet_responses(\"response.csv\",\n",
    "                          \"response_temp_default_flipped_davinci-002.csv\")"
   ]
  },
  {
   "cell_type": "code",
   "execution_count": 5,
   "metadata": {},
   "outputs": [
    {
     "data": {
      "text/plain": [
       "0.769"
      ]
     },
     "execution_count": 5,
     "metadata": {},
     "output_type": "execute_result"
    }
   ],
   "source": [
    "compare_triplet_responses(\"response_flipped_davinci-002.csv\",\n",
    "                          \"response_temp_default_flipped_davinci-002.csv\")"
   ]
  }
 ],
 "metadata": {
  "kernelspec": {
   "display_name": "get_responses",
   "language": "python",
   "name": "python3"
  },
  "language_info": {
   "codemirror_mode": {
    "name": "ipython",
    "version": 3
   },
   "file_extension": ".py",
   "mimetype": "text/x-python",
   "name": "python",
   "nbconvert_exporter": "python",
   "pygments_lexer": "ipython3",
   "version": "3.7.12"
  },
  "orig_nbformat": 4
 },
 "nbformat": 4,
 "nbformat_minor": 2
}
