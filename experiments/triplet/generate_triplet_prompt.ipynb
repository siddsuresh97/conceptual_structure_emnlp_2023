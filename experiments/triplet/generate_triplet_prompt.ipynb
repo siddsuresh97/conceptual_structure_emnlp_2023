{
 "cells": [
  {
   "cell_type": "code",
   "execution_count": 7,
   "metadata": {},
   "outputs": [],
   "source": [
    "import pandas as pd\n",
    "import random\n",
    "import csv\n",
    "\n",
    "f1 = pd.read_csv(\"RoundThings_items.csv\")\n",
    "items = f1[\"items\"].tolist()\n",
    "\n",
    "def generate_triplet(path, n=10):\n",
    "    existing_triplets = set()\n",
    "    \n",
    "    def generate_triplet():\n",
    "        while True:\n",
    "            triplet = random.sample(items, 3)\n",
    "            sorted_triplet = tuple(sorted(triplet))\n",
    "            if sorted_triplet not in existing_triplets:\n",
    "                existing_triplets.add(sorted_triplet)\n",
    "                return triplet\n",
    "\n",
    "    with open(path, 'w', newline='') as file:\n",
    "        writer = csv.writer(file)\n",
    "        for _ in range(n):\n",
    "            writer.writerow(generate_triplet())\n",
    "\n",
    "generate_triplet(\"prompt_roundthings.csv\", 2000)\n"
   ]
  },
  {
   "cell_type": "code",
   "execution_count": null,
   "metadata": {},
   "outputs": [],
   "source": []
  }
 ],
 "metadata": {
  "kernelspec": {
   "display_name": "get_responses",
   "language": "python",
   "name": "python3"
  },
  "language_info": {
   "codemirror_mode": {
    "name": "ipython",
    "version": 3
   },
   "file_extension": ".py",
   "mimetype": "text/x-python",
   "name": "python",
   "nbconvert_exporter": "python",
   "pygments_lexer": "ipython3",
   "version": "3.7.12"
  },
  "orig_nbformat": 4
 },
 "nbformat": 4,
 "nbformat_minor": 2
}
