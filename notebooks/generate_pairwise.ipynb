{
 "cells": [
  {
   "cell_type": "code",
   "execution_count": 1,
   "metadata": {},
   "outputs": [],
   "source": [
    "import pandas as pd\n",
    "from io import StringIO\n",
    "import itertools\n",
    "import csv\n"
   ]
  },
  {
   "cell_type": "code",
   "execution_count": 19,
   "metadata": {},
   "outputs": [],
   "source": [
    "df = pd.read_csv(\"../examples/pairwise/animals_data.csv\", usecols=['concept'])\n",
    "data = df['concept'].tolist()\n",
    "\n",
    "# Generate pairwise combinations for each category\n",
    "combinations = list(itertools.product(data, repeat=2))\n",
    "    \n",
    "with open('../examples/pairwise/prompt.csv', 'w', newline='') as csvfile:\n",
    "    csv_writer = csv.writer(csvfile)\n",
    "    \n",
    "    for combination in combinations:\n",
    "        csv_writer.writerow(combination)"
   ]
  },
  {
   "cell_type": "code",
   "execution_count": 5,
   "metadata": {},
   "outputs": [],
   "source": [
    "def write_responses(res, file_path, mode):\n",
    "    \"\"\"the helper function for saving the responses\"\"\"\n",
    "    # mode: 'w', 'a'\n",
    "    with open(file_path, mode) as f:\n",
    "        # using csv.writer method from CSV package\n",
    "        write = csv.writer(f)\n",
    "        write.writerows(res)"
   ]
  },
  {
   "cell_type": "code",
   "execution_count": 17,
   "metadata": {},
   "outputs": [],
   "source": [
    "map = {\n",
    "    'extremely dissimilar': 1,\n",
    "    'very dissimilar': 2,\n",
    "    'likely dissimilar': 3,\n",
    "    'neutral': 4,\n",
    "    'likely similar': 5,\n",
    "    'very similar': 6,\n",
    "    'extremely similar': 7\n",
    "}\n",
    "\n",
    "nums = [\"1\",\"2\",\"3\",\"4\",\"5\",\"6\",\"7\"]\n",
    "\n",
    "def check(str):\n",
    "    # # if len(str) == 1:\n",
    "    # #     return str\n",
    "    \n",
    "    # try:\n",
    "    #     temp = str.split(\" \")[3][0]\n",
    "    #     if temp.isnumeric():\n",
    "    #         return temp\n",
    "    # except Exception as e:\n",
    "    #     return str\n",
    "        \n",
    "    # for key in map:\n",
    "    #     if key in str:\n",
    "    #         return map[key]\n",
    "    for key in nums:\n",
    "        if key in str:\n",
    "            return key\n",
    "        \n",
    "    return \"4\"\n",
    "\n",
    "df = pd.read_csv(\"./alpaca_pairwise_text_left.csv\", header=None)\n",
    "prompts = df[0].tolist()\n",
    "results = df[1].tolist()\n",
    "\n",
    "answer = [check(r) for r in results]\n",
    "\n",
    "write_responses(list(zip(prompts, answer)), \"alpaca_pairwise.csv\", 'w')"
   ]
  },
  {
   "cell_type": "code",
   "execution_count": null,
   "metadata": {},
   "outputs": [],
   "source": []
  }
 ],
 "metadata": {
  "kernelspec": {
   "display_name": "get_responses",
   "language": "python",
   "name": "python3"
  },
  "language_info": {
   "codemirror_mode": {
    "name": "ipython",
    "version": 3
   },
   "file_extension": ".py",
   "mimetype": "text/x-python",
   "name": "python",
   "nbconvert_exporter": "python",
   "pygments_lexer": "ipython3",
   "version": "3.8.15"
  },
  "orig_nbformat": 4,
  "vscode": {
   "interpreter": {
    "hash": "fd6f619416f63f86c59378c78843b6e27090a1377401c8bda8fabb3ad0410c0f"
   }
  }
 },
 "nbformat": 4,
 "nbformat_minor": 2
}
