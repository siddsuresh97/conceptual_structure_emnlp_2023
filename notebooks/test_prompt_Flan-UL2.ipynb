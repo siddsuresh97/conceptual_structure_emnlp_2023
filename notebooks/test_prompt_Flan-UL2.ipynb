{
 "cells": [
  {
   "cell_type": "code",
   "execution_count": 1,
   "metadata": {},
   "outputs": [
    {
     "name": "stderr",
     "output_type": "stream",
     "text": [
      "/home/yuxizheng/miniconda3/envs/get_responses/lib/python3.7/site-packages/tqdm/auto.py:21: TqdmWarning: IProgress not found. Please update jupyter and ipywidgets. See https://ipywidgets.readthedocs.io/en/stable/user_install.html\n",
      "  from .autonotebook import tqdm as notebook_tqdm\n",
      "Downloading (…)l-00001-of-00008.bin: 100%|██████████| 4.69G/4.69G [00:23<00:00, 201MB/s]\n",
      "Downloading (…)l-00002-of-00008.bin: 100%|██████████| 4.97G/4.97G [00:28<00:00, 173MB/s]\n",
      "Downloading (…)l-00003-of-00008.bin: 100%|██████████| 4.97G/4.97G [00:30<00:00, 161MB/s]\n",
      "Downloading (…)l-00004-of-00008.bin: 100%|██████████| 4.96G/4.96G [00:25<00:00, 191MB/s]\n",
      "Downloading (…)l-00005-of-00008.bin: 100%|██████████| 5.00G/5.00G [00:33<00:00, 148MB/s]\n",
      "Downloading (…)l-00006-of-00008.bin: 100%|██████████| 4.93G/4.93G [00:30<00:00, 164MB/s]\n",
      "Downloading (…)l-00007-of-00008.bin: 100%|██████████| 5.00G/5.00G [00:29<00:00, 171MB/s]\n",
      "Downloading (…)l-00008-of-00008.bin: 100%|██████████| 4.93G/4.93G [00:32<00:00, 150MB/s]\n",
      "Downloading shards: 100%|██████████| 8/8 [03:56<00:00, 29.51s/it]\n",
      "Loading checkpoint shards: 100%|██████████| 8/8 [00:28<00:00,  3.58s/it]\n",
      "Downloading (…)okenizer_config.json: 100%|██████████| 2.35k/2.35k [00:00<00:00, 361kB/s]\n",
      "Downloading spiece.model: 100%|██████████| 792k/792k [00:00<00:00, 102MB/s]\n",
      "Downloading (…)/main/tokenizer.json: 100%|██████████| 2.43M/2.43M [00:00<00:00, 20.7MB/s]\n",
      "Downloading (…)in/added_tokens.json: 100%|██████████| 665/665 [00:00<00:00, 724kB/s]\n",
      "Downloading (…)cial_tokens_map.json: 100%|██████████| 2.20k/2.20k [00:00<00:00, 2.83MB/s]\n"
     ]
    }
   ],
   "source": [
    "import transformers\n",
    "import torch\n",
    "from transformers import pipeline\n",
    "from accelerate import Accelerator\n",
    "\n",
    "accelerator = Accelerator()\n",
    "device = accelerator.device\n",
    "    \n",
    "model = transformers.T5ForConditionalGeneration.from_pretrained(\"google/flan-ul2\", torch_dtype=torch.bfloat16,  cache_dir=\"/mnt/disk-1/flan-ul2\")         \n",
    "tokenizer = transformers.AutoTokenizer.from_pretrained(\"google/flan-ul2\")\n",
    "        \n",
    "model, tokenizer = accelerator.prepare(model, tokenizer)"
   ]
  },
  {
   "cell_type": "code",
   "execution_count": 4,
   "metadata": {},
   "outputs": [
    {
     "data": {
      "text/plain": [
       "[('Answer using only one word - Alligator or Spanner and not Shovel. Which is more similar in meaning to Shovel?',\n",
       "  'Spanner'),\n",
       " ('Answer using only one word - Caiman or Tortoise and not Anvil. Which is more similar in meaning to Anvil?',\n",
       "  'Tortoise'),\n",
       " ('Answer using only one word - Boa python or Snake and not Nail. Which is more similar in meaning to Nail?',\n",
       "  'Snake'),\n",
       " ('Answer using only one word - Chisel or Toad and not Paint brush. Which is more similar in meaning to Paint brush?',\n",
       "  'Toad'),\n",
       " ('Answer using only one word - Caiman or Crocodile and not Shovel. Which is more similar in meaning to Shovel?',\n",
       "  'Crocodile')]"
      ]
     },
     "execution_count": 4,
     "metadata": {},
     "output_type": "execute_result"
    }
   ],
   "source": [
    "batches = [\"Answer using only one word - Alligator or Spanner and not Shovel. Which is more similar in meaning to Shovel?\",\n",
    "\"Answer using only one word - Caiman or Tortoise and not Anvil. Which is more similar in meaning to Anvil?\",\n",
    "\"Answer using only one word - Boa python or Snake and not Nail. Which is more similar in meaning to Nail?\",\n",
    "\"Answer using only one word - Chisel or Toad and not Paint brush. Which is more similar in meaning to Paint brush?\",\n",
    "\"Answer using only one word - Caiman or Crocodile and not Shovel. Which is more similar in meaning to Shovel?\"]\n",
    "\n",
    "\n",
    "\n",
    "inputs = tokenizer(batches, return_tensors=\"pt\", padding=True, truncation=True, max_length=512)\n",
    "inputs = {k: v.to(device) for k, v in inputs.items()}\n",
    "\n",
    "outputs = model.generate(**inputs, max_length=512, do_sample=False)\n",
    "\n",
    "responses = [tokenizer.decode(output, skip_special_tokens=True) for output in outputs]\n",
    "\n",
    "\n",
    "prompt_and_response = list(zip(batches, responses))\n",
    "\n",
    "# prompt_and_response = []\n",
    "# for prompt, response in zip(batches, responses):\n",
    "#     prompt_and_response.append([prompt, response])\n",
    "    \n",
    "prompt_and_response"
   ]
  },
  {
   "cell_type": "code",
   "execution_count": null,
   "metadata": {},
   "outputs": [],
   "source": [
    "import csv\n",
    "def save_responses(reponses, file_path):\n",
    "    \"\"\"the helper function for saving the responses\"\"\"\n",
    "    \n",
    "    with open(file_path, 'w') as f:\n",
    "        # using csv.writer method from CSV package\n",
    "        write = csv.writer(f)\n",
    "        write.writerows(reponses)\n",
    "        \n",
    "save_responses(prompt_and_response, \"test.csv\")"
   ]
  }
 ],
 "metadata": {
  "kernelspec": {
   "display_name": "get_responses",
   "language": "python",
   "name": "python3"
  },
  "language_info": {
   "codemirror_mode": {
    "name": "ipython",
    "version": 3
   },
   "file_extension": ".py",
   "mimetype": "text/x-python",
   "name": "python",
   "nbconvert_exporter": "python",
   "pygments_lexer": "ipython3",
   "version": "3.8.15"
  },
  "orig_nbformat": 4
 },
 "nbformat": 4,
 "nbformat_minor": 2
}
