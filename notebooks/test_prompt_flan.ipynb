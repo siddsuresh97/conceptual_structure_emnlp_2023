{
 "cells": [
  {
   "cell_type": "code",
   "execution_count": null,
   "metadata": {},
   "outputs": [],
   "source": [
    "import torch\n",
    "from accelerate import Accelerator\n",
    "from transformers import T5Tokenizer, T5ForConditionalGeneration\n",
    "\n",
    "model_name = \"google/flan-t5-xxl\"\n",
    "\n",
    "accelerator = Accelerator()\n",
    "device = accelerator.device\n",
    "tokenizer = accelerator.prepare(\n",
    "    T5Tokenizer.from_pretrained(model_name)\n",
    ")\n",
    "\n",
    "model = T5ForConditionalGeneration.from_pretrained(model_name, device_map=\"auto\",  torch_dtype=torch.bfloat16,  cache_dir=\"../models\")\n",
    "model = model.to(device)"
   ]
  },
  {
   "cell_type": "code",
   "execution_count": null,
   "metadata": {},
   "outputs": [],
   "source": [
    "input_text = '''\n",
    "Q: Is Alligator more similar in meaning to Shovel than Spanner? How confident are you with your answer on a 1 to 100 scale?\n",
    "A: Yes. 100\n",
    "Q: Is Spanner more similar in meaning to Shovel than Alligator? How confident are you with your answer on a 1 to 100 scale?\n",
    "A: No. 100\n",
    "Q: Is Caiman more similar in meaning to Anvil than Tortoise? How confident are you with your answer on a 1 to 100 scale?\n",
    "A:\n",
    "'''"
   ]
  },
  {
   "cell_type": "code",
   "execution_count": null,
   "metadata": {},
   "outputs": [],
   "source": [
    "input_text = '''\n",
    "Q: Is it true that alligator is more similar in meaning to Shovel than Spanner? How confident are you with your answer on a 1 to 100 scale?\n",
    "A: Yes. 100\n",
    "Q: Is it true that spanner is more similar in meaning to Shovel than Alligator? How confident are you with your answer on a 1 to 100 scale?\n",
    "A: No. 100\n",
    "Q: Is it true that tortoise is more similar in meaning to Anvil than Caiman? How confident are you with your answer on a 1 to 100 scale?\n",
    "A:\n",
    "'''"
   ]
  },
  {
   "cell_type": "code",
   "execution_count": null,
   "metadata": {},
   "outputs": [],
   "source": [
    "input_text = '''\n",
    "Q: Is the property [is_female] true for the concept [book]? How confident are you with your answer on a 1 to 100 scale?\n",
    "A: No. 100.\n",
    "Q: Is the property [is_female] true for the concept [cow]? How confident are you with your answer on a 1 to 100 scale?\n",
    "A: Yes. 100.\n",
    "Q: Is the property [can_be_digital] true for the concept [book]? How confident are you with your answer on a 1 to 100 scale?\n",
    "A: \n",
    "'''"
   ]
  },
  {
   "cell_type": "code",
   "execution_count": null,
   "metadata": {},
   "outputs": [],
   "source": [
    "input_text = '''\n",
    "Q: Is the property [is_female] true for the concept [bulls]? How confident are you with your answer on a 1 to 100 scale?\n",
    "A: No. 100.\n",
    "Q: Is the property [is_female] true for the concept [cow]? How confident are you with your answer on a 1 to 100 scale?\n",
    "A: Yes. 100.\n",
    "Q: Is the property [is_female] true for the concept [book]? How confident are you with your answer on a 1 to 100 scale?\n",
    "A: \n",
    "'''"
   ]
  },
  {
   "cell_type": "code",
   "execution_count": null,
   "metadata": {},
   "outputs": [],
   "source": [
    "input_text = \"Answer with only one number from 1 to 7, considering 1 as the least similar and 7 as the most similar: How similar is Alligator and Alligator?\""
   ]
  },
  {
   "cell_type": "code",
   "execution_count": null,
   "metadata": {},
   "outputs": [],
   "source": [
    "input_ids = tokenizer(input_text, return_tensors=\"pt\").input_ids.to(device)\n",
    "outputs = model.generate(input_ids, num_return_sequences=5, num_beams= 25, temperature = 0.5)\n",
    "print(tokenizer.decode(outputs[0], skip_special_tokens=True))"
   ]
  },
  {
   "cell_type": "code",
   "execution_count": null,
   "metadata": {},
   "outputs": [],
   "source": []
  }
 ],
 "metadata": {
  "kernelspec": {
   "display_name": "get_responses",
   "language": "python",
   "name": "get_responses"
  },
  "language_info": {
   "codemirror_mode": {
    "name": "ipython",
    "version": 3
   },
   "file_extension": ".py",
   "mimetype": "text/x-python",
   "name": "python",
   "nbconvert_exporter": "python",
   "pygments_lexer": "ipython3",
   "version": "3.7.12"
  },
  "orig_nbformat": 4,
  "vscode": {
   "interpreter": {
    "hash": "4fff1e6cdd3cda563598f32497aebe0d737ca7ae1e1168bb9a905c029e34894d"
   }
  }
 },
 "nbformat": 4,
 "nbformat_minor": 2
}
