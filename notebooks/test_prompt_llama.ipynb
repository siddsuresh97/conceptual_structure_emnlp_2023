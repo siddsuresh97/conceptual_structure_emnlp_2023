{
 "cells": [
  {
   "cell_type": "code",
   "execution_count": 2,
   "metadata": {},
   "outputs": [
    {
     "name": "stderr",
     "output_type": "stream",
     "text": [
      "/home/yuxizheng/miniconda3/envs/get_responses/lib/python3.7/site-packages/tqdm/auto.py:21: TqdmWarning: IProgress not found. Please update jupyter and ipywidgets. See https://ipywidgets.readthedocs.io/en/stable/user_install.html\n",
      "  from .autonotebook import tqdm as notebook_tqdm\n",
      "Loading checkpoint shards: 100%|██████████| 2/2 [00:10<00:00,  5.12s/it]\n"
     ]
    }
   ],
   "source": [
    "from transformers import LlamaForCausalLM, LlamaTokenizer\n",
    "from transformers import pipeline\n",
    "from accelerate import Accelerator\n",
    "\n",
    "tokenizer = LlamaTokenizer.from_pretrained(\"/mnt/disk-1/llama_hf_7B\")\n",
    "model = LlamaForCausalLM.from_pretrained(\"/mnt/disk-1/llama_hf_7B\")"
   ]
  },
  {
   "cell_type": "code",
   "execution_count": 3,
   "metadata": {},
   "outputs": [],
   "source": [
    "batches = [\"Answer with only one number from 1 to 7, considering 1 as the least similar and 7 as the most similar: How similar is Alligator and Alligator?\",\n",
    "           \"Answer with only one number from 1 to 7, considering 1 as the least similar and 7 as the most similar: How similar is Alligator and Cat?\",\n",
    "           \"Answer with only one number from 1 to 7, considering 1 as the least similar and 7 as the most similar: How similar is Dog and Cat?\"]"
   ]
  },
  {
   "cell_type": "code",
   "execution_count": 6,
   "metadata": {},
   "outputs": [
    {
     "data": {
      "text/plain": [
       "[['Answer with only one number from 1 to 7, considering 1 as the least similar and 7 as the most similar: How similar is Alligator and Alligator?',\n",
       "  'How similar is Alligator and Alligator?,How similar is Alligator and'],\n",
       " ['Answer with only one number from 1 to 7, considering 1 as the least similar and 7 as the most similar: How similar is Alligator and Cat?',\n",
       "  'How similar is Alligator and Cat?,Asked by 1000'],\n",
       " ['Answer with only one number from 1 to 7, considering 1 as the least similar and 7 as the most similar: How similar is Dog and Cat?',\n",
       "  'How similar is Dog and Cat?,The answer is: 0.5555']]"
      ]
     },
     "execution_count": 6,
     "metadata": {},
     "output_type": "execute_result"
    }
   ],
   "source": [
    "\n",
    "accelerator = Accelerator()\n",
    "    \n",
    "model, tokenizer = accelerator.prepare(model, tokenizer)\n",
    "\n",
    "pipe = pipeline('text-generation', model=model, tokenizer=tokenizer, device=accelerator.device)\n",
    "\n",
    "responses = pipe(batches, max_new_tokens=20, do_sample=False)\n",
    "responses = [r[0]['generated_text'] for r in responses]\n",
    "responses = [','.join(r.split('\\n')[1::]) for r in responses]\n",
    "\n",
    "prompt_and_response = []\n",
    "for prompt, response in zip(batches, responses):\n",
    "    prompt_and_response.append([prompt, response])\n",
    "    \n",
    "prompt_and_response"
   ]
  }
 ],
 "metadata": {
  "kernelspec": {
   "display_name": "get_responses",
   "language": "python",
   "name": "python3"
  },
  "language_info": {
   "codemirror_mode": {
    "name": "ipython",
    "version": 3
   },
   "file_extension": ".py",
   "mimetype": "text/x-python",
   "name": "python",
   "nbconvert_exporter": "python",
   "pygments_lexer": "ipython3",
   "version": "3.7.12"
  },
  "orig_nbformat": 4
 },
 "nbformat": 4,
 "nbformat_minor": 2
}
